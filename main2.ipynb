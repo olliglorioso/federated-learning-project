{
 "cells": [
  {
   "cell_type": "code",
   "execution_count": 159,
   "metadata": {},
   "outputs": [],
   "source": [
    "# First, let's import some modules.\n",
    "import os\n",
    "import pandas as pd\n",
    "from sklearn.preprocessing import LabelEncoder, StandardScaler\n",
    "from sklearn.model_selection import train_test_split\n",
    "from sklearn.ensemble import RandomForestClassifier\n",
    "from sklearn.metrics import classification_report\n",
    "from torch.utils.data import TensorDataset, DataLoader\n",
    "import torch"
   ]
  },
  {
   "cell_type": "markdown",
   "metadata": {},
   "source": [
    "Let's define some helper functions to segment the timeseries data to segments of 25 datapoints, with each having a 10-datapoint overlap with the previous and next segments. All the segments have purely the same activity label."
   ]
  },
  {
   "cell_type": "code",
   "execution_count": 170,
   "metadata": {},
   "outputs": [],
   "source": [
    "import numpy as np\n",
    "\n",
    "def segment_data(df, window_size=25, step_size=15):\n",
    "    segments = []\n",
    "    labels = []\n",
    "    for start in range(0, len(df) - window_size, step_size):\n",
    "        end = start + window_size\n",
    "        segment = df.iloc[start:end]\n",
    "        if len(segment) == window_size:\n",
    "            segment_data = segment[[\"x\", \"y\", \"z\"]].values\n",
    "            segments.append(segment_data)\n",
    "            label = segment[\"activity\"].mode()[0]\n",
    "            labels.append(label)\n",
    "    return np.array(segments), np.array(labels)\n",
    "\n",
    "def segment_each_activity(df, window_size=25, step_size=15):\n",
    "    all_segments = []\n",
    "    all_labels = []\n",
    "    for activity in df[\"activity\"].unique():\n",
    "        activity_data = df[df[\"activity\"] == activity]\n",
    "        \n",
    "        segments, labels = segment_data(activity_data, window_size, step_size)\n",
    "        \n",
    "        all_segments.append(segments)\n",
    "        all_labels.append(labels)\n",
    "\n",
    "    all_segments = np.concatenate(all_segments, axis=0)\n",
    "    all_labels = np.concatenate(all_labels, axis=0)\n",
    "\n",
    "    return all_segments, all_labels\n"
   ]
  },
  {
   "cell_type": "markdown",
   "metadata": {},
   "source": [
    "Read the data and encode the activity label. Also, let's create a dictionary to create human-readable labels for the activities according to the [dataset description](https://archive.ics.uci.edu/ml/machine-learning-databases/00507/WISDM-dataset-description.pdf)."
   ]
  },
  {
   "cell_type": "code",
   "execution_count": 161,
   "metadata": {},
   "outputs": [],
   "source": [
    "activity_dict = {1: \"Walking\", 2: \"Jogging\", 3: \"Stairs\", 4: \"Sitting\", 5: \"Standing\",\n",
    "                 6: \"Typing\", 7: \"Brushing Teeth\", 8: \"Eating Soup\", 9: \"Eating Chips\",\n",
    "                 10: \"Eating Pasta\", 11: \"Drinking from Cup\", 12: \"Eating Sandwich\",\n",
    "                 13: \"Kicking (Soccer Ball)\", 14: \"Playing Catch w/Tennis Ball\",\n",
    "                 15: \"Dribbling (Basketball)\", 16: \"Writing\", 17: \"Clapping\", 18: \"Folding Clothes\"\n",
    "                 }\n",
    "\n",
    "phone_accel = pd.read_csv(\"./raw/phone/accel/data_1600_accel_phone.txt\", header=None, names=[\"user\", \"activity\", \"timestamp\", \"x\", \"y\", \"z\"])\n",
    "phone_gyro = pd.read_csv(\"./raw/phone/gyro/data_1600_gyro_phone.txt\", header=None, names=[\"user\", \"activity\", \"timestamp\", \"x\", \"y\", \"z\"])\n",
    "watch_accel = pd.read_csv(\"./raw/watch/accel/data_1600_accel_watch.txt\", header=None, names=[\"user\", \"activity\", \"timestamp\", \"x\", \"y\", \"z\"])\n",
    "watch_gyro = pd.read_csv(\"./raw/watch/gyro/data_1600_gyro_watch.txt\", header=None, names=[\"user\", \"activity\", \"timestamp\", \"x\", \"y\", \"z\"])\n",
    "\n",
    "lencoder = LabelEncoder()\n",
    "phone_accel[\"activity\"] = lencoder.fit_transform(phone_accel[\"activity\"])\n",
    "phone_accel[\"z\"] = phone_accel[\"z\"].astype(str).str.replace(\";\", \"\", regex=False).astype(float)\n"
   ]
  },
  {
   "cell_type": "code",
   "execution_count": 162,
   "metadata": {},
   "outputs": [
    {
     "name": "stdout",
     "output_type": "stream",
     "text": [
      "Activity 0 shape: (3574, 6)\n",
      "Activity 1 shape: (3572, 6)\n",
      "Activity 2 shape: (3573, 6)\n",
      "Activity 3 shape: (3572, 6)\n",
      "Activity 4 shape: (3572, 6)\n",
      "Activity 5 shape: (3573, 6)\n",
      "Activity 6 shape: (3573, 6)\n",
      "Activity 7 shape: (3572, 6)\n",
      "Activity 8 shape: (3571, 6)\n",
      "Activity 9 shape: (3573, 6)\n",
      "Activity 10 shape: (3573, 6)\n",
      "Activity 11 shape: (3576, 6)\n",
      "Activity 12 shape: (3573, 6)\n",
      "Activity 13 shape: (3572, 6)\n",
      "Activity 14 shape: (3574, 6)\n",
      "Activity 15 shape: (3573, 6)\n",
      "Activity 16 shape: (3573, 6)\n",
      "Activity 17 shape: (3572, 6)\n"
     ]
    }
   ],
   "source": [
    "for activity in phone_accel[\"activity\"].unique():\n",
    "    activity_data = phone_accel[phone_accel[\"activity\"] == activity]\n",
    "    print(f\"Activity {activity} shape: {activity_data.shape}\")"
   ]
  },
  {
   "cell_type": "code",
   "execution_count": 163,
   "metadata": {},
   "outputs": [],
   "source": [
    "X, y = segment_each_activity(phone_accel)\n",
    "X_train, X_test, y_train, y_test = train_test_split(X, y, random_state=42)\n"
   ]
  },
  {
   "cell_type": "code",
   "execution_count": 164,
   "metadata": {},
   "outputs": [],
   "source": [
    "X_train_tensor = torch.tensor(X_train, dtype=torch.float32)\n",
    "y_train_tensor = torch.tensor(y_train, dtype=torch.long)\n",
    "X_test_tensor = torch.tensor(X_test, dtype=torch.float32)\n",
    "y_test_tensor = torch.tensor(y_test, dtype=torch.long)\n",
    "\n",
    "train_ds = TensorDataset(X_train_tensor, y_train_tensor)\n",
    "test_ds = TensorDataset(X_test_tensor, y_test_tensor)\n",
    "\n",
    "train_loader = DataLoader(train_ds, batch_size=64, shuffle=True)\n",
    "test_loader = DataLoader(test_ds, batch_size=64)"
   ]
  },
  {
   "cell_type": "code",
   "execution_count": 165,
   "metadata": {},
   "outputs": [],
   "source": [
    "class CNNModel(nn.Module):\n",
    "    def __init__(self, input_dim=3, output_dim=6):\n",
    "        super(CNNModel, self).__init__()\n",
    "        self.conv1 = nn.Conv1d(in_channels=input_dim, out_channels=64, kernel_size=5)\n",
    "        self.pool = nn.MaxPool1d(2)\n",
    "        self.fc1 = nn.Linear(64 * ((X.shape[1] - 4) // 2), output_dim)\n",
    "\n",
    "    def forward(self, x):\n",
    "        x = x.permute(0, 2, 1)  # [batch, channels, seq_len]\n",
    "        x = self.pool(torch.relu(self.conv1(x)))\n",
    "        x = x.view(x.size(0), -1)\n",
    "        return self.fc1(x)\n"
   ]
  },
  {
   "cell_type": "code",
   "execution_count": 166,
   "metadata": {},
   "outputs": [],
   "source": [
    "def train(model, dataloader, criterion, optimizer, device):\n",
    "    model.train()\n",
    "    for inputs, labels in dataloader:\n",
    "        inputs, labels = inputs.to(device), labels.to(device)\n",
    "\n",
    "        optimizer.zero_grad()\n",
    "        outputs = model(inputs)\n",
    "        loss = criterion(outputs, labels)\n",
    "        loss.backward()\n",
    "        optimizer.step()\n"
   ]
  },
  {
   "cell_type": "code",
   "execution_count": 167,
   "metadata": {},
   "outputs": [],
   "source": [
    "def evaluate(model, dataloader, device):\n",
    "    model.eval()\n",
    "    correct = total = 0\n",
    "    with torch.no_grad():\n",
    "        for inputs, labels in dataloader:\n",
    "            inputs, labels = inputs.to(device), labels.to(device)\n",
    "            outputs = model(inputs)\n",
    "            _, predicted = torch.max(outputs, 1)\n",
    "            total += labels.size(0)\n",
    "            correct += (predicted == labels).sum().item()\n",
    "    return correct / total\n"
   ]
  },
  {
   "cell_type": "code",
   "execution_count": 168,
   "metadata": {},
   "outputs": [
    {
     "name": "stdout",
     "output_type": "stream",
     "text": [
      "Epoch 1, Accuracy: 0.69\n",
      "Epoch 2, Accuracy: 0.85\n",
      "Epoch 3, Accuracy: 0.81\n",
      "Epoch 4, Accuracy: 0.90\n",
      "Epoch 5, Accuracy: 0.88\n",
      "Epoch 6, Accuracy: 0.90\n",
      "Epoch 7, Accuracy: 0.91\n",
      "Epoch 8, Accuracy: 0.91\n",
      "Epoch 9, Accuracy: 0.90\n",
      "Epoch 10, Accuracy: 0.92\n"
     ]
    }
   ],
   "source": [
    "device = torch.device(\"cuda\" if torch.cuda.is_available() else \"cpu\")\n",
    "\n",
    "model = CNNModel(output_dim=len(np.unique(y))).to(device)  # or CNNModel(...)\n",
    "criterion = nn.CrossEntropyLoss()\n",
    "optimizer = torch.optim.Adam(model.parameters(), lr=0.001)\n",
    "\n",
    "for epoch in range(10):\n",
    "    train(model, train_loader, criterion, optimizer, device)\n",
    "    acc = evaluate(model, test_loader, device)\n",
    "    print(f\"Epoch {epoch+1}, Accuracy: {acc:.2f}\")\n"
   ]
  },
  {
   "cell_type": "code",
   "execution_count": 169,
   "metadata": {},
   "outputs": [
    {
     "name": "stdout",
     "output_type": "stream",
     "text": [
      "Predicted activity: 4\n"
     ]
    }
   ],
   "source": [
    "test_seg_X = X[1000]\n",
    "test_seg_y = y[1000]\n",
    "segment_tensor = torch.tensor(test_seg_X, dtype=torch.float32).unsqueeze(0)  \n",
    "\n",
    "model.eval()\n",
    "with torch.no_grad():\n",
    "    output = model(segment_tensor.to(device))  # shape: (1, num_classes)\n",
    "    predicted_label = torch.argmax(output, dim=1).item()\n",
    "    print(\"Predicted activity:\", predicted_label)\n"
   ]
  }
 ],
 "metadata": {
  "kernelspec": {
   "display_name": "federated-learning-project",
   "language": "python",
   "name": "python3"
  },
  "language_info": {
   "codemirror_mode": {
    "name": "ipython",
    "version": 3
   },
   "file_extension": ".py",
   "mimetype": "text/x-python",
   "name": "python",
   "nbconvert_exporter": "python",
   "pygments_lexer": "ipython3",
   "version": "3.13.2"
  }
 },
 "nbformat": 4,
 "nbformat_minor": 2
}
